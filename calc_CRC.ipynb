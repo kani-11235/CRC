{
 "cells": [
  {
   "cell_type": "code",
   "execution_count": 92,
   "id": "b5b6f0e9",
   "metadata": {},
   "outputs": [
    {
     "name": "stdout",
     "output_type": "stream",
     "text": [
      "[1, 0, 1, 1, 0, 0, 1]\n"
     ]
    },
    {
     "data": {
      "text/plain": [
       "[1, 0, 1, 1, 0, 0, 1, 0, 0, 0]"
      ]
     },
     "execution_count": 92,
     "metadata": {},
     "output_type": "execute_result"
    }
   ],
   "source": [
    "#CRCプログラム\n",
    "data = '1011001'\n",
    "ply = '1101'\n",
    "\n",
    "bit_list = list(map(int,data))\n",
    "print(bit_list)\n",
    "ply = [int(i) for i in ply ]\n",
    "add = [0 for _ in range(len(ply)-1) ]\n",
    "\n",
    "bit_list += add\n",
    "\n",
    "length = len(ply)\n",
    "bit_list\n"
   ]
  },
  {
   "cell_type": "code",
   "execution_count": 133,
   "id": "0584d9e7",
   "metadata": {},
   "outputs": [
    {
     "name": "stdout",
     "output_type": "stream",
     "text": [
      "0 [1, 0, 1, 1]\n",
      "a [0, 1, 1, 0]\n",
      "0 [1, 1, 0, 0]\n",
      "a [0, 0, 0, 1]\n",
      "1 [0, 0, 1, 0]\n",
      "0 [0, 1, 0, 1]\n",
      "0 [1, 0, 1, 0]\n",
      "a [0, 1, 1, 1]\n",
      "0 [1, 1, 1, 0]\n",
      "a [0, 0, 1, 1]\n",
      "[0, 1, 1]\n"
     ]
    }
   ],
   "source": [
    "temp_bit_list = bit_list[0:length] #length....生成多項式の桁数\n",
    "lim = 0\n",
    "for add_bit in bit_list[length:] : #現在処理中の送信データが左から何桁目か、それが元の送信データの桁数よりも大きくなったら終了\n",
    "    \n",
    "    lim += 1\n",
    "    print(add_bit,temp_bit_list)\n",
    "    if temp_bit_list[0] != 0:\n",
    "        temp_bit_list = [(temp_bit_list[i] ^ ply[i]) for i in range(length)] #送信データと生成多項式をXOR\n",
    "        print('a',temp_bit_list)\n",
    "\n",
    "    if lim == len(bit_list[length:]):\n",
    "        break\n",
    "    \n",
    "    elif temp_bit_list[0] == 0: #一番左の桁が0だったら、処理するデータを1桁右シフト\n",
    "        temp_bit_list = temp_bit_list[1:]\n",
    "        temp_bit_list += [add_bit]\n",
    "\n",
    "\n",
    "\n",
    "if temp_bit_list[0] == 0: #この処理で、CRC値の桁数が生成多項式の桁数-1になる\n",
    "    temp_bit_list = temp_bit_list[1:]\n",
    "    \n",
    "print(temp_bit_list)\n",
    "\n",
    "\n"
   ]
  },
  {
   "cell_type": "code",
   "execution_count": null,
   "id": "b31dfe51",
   "metadata": {},
   "outputs": [
    {
     "name": "stdout",
     "output_type": "stream",
     "text": [
      "CRC値:[0, 1, 1]\n"
     ]
    }
   ],
   "source": [
    "def calc_CRC(data,ply):\n",
    "\n",
    "    bit_list = list(map(int,data))\n",
    "    ply = list(map(int,ply))\n",
    "    add = [0 for _ in range(len(ply)-1) ]\n",
    "\n",
    "    bit_list += add #送信データに生成多項式の桁数-1の0を追加\n",
    "\n",
    "    length = len(ply) #この桁数が基準となって割り算が行われていく。\n",
    "\n",
    "    temp_bit_list = bit_list[0:length] #length....生成多項式の桁数\n",
    "    lim = 0\n",
    "\n",
    "    for add_bit in bit_list[length:] : #現在処理中の送信データが左から何桁目か、それが元の送信データの桁数よりも大きくなったら終了\n",
    "        \n",
    "        lim += 1\n",
    "        if temp_bit_list[0] != 0:\n",
    "            temp_bit_list = [(temp_bit_list[i] ^ ply[i]) for i in range(length)] #送信データと生成多項式をXOR\n",
    "\n",
    "        if lim == len(bit_list[length:]): #計算が終わっているのにさらに数字を下ろしてくるのを阻止したい\n",
    "            break\n",
    "        \n",
    "        elif temp_bit_list[0] == 0: #一番左の桁が0だったら、処理するデータを1桁右シフト\n",
    "            temp_bit_list = temp_bit_list[1:]\n",
    "            temp_bit_list += [add_bit]\n",
    "\n",
    "\n",
    "\n",
    "    if temp_bit_list[0] == 0: #この処理で、CRC値の桁数が生成多項式の桁数-1になる\n",
    "        temp_bit_list = temp_bit_list[1:]\n",
    "    \n",
    "    return temp_bit_list\n",
    "\n",
    "\n",
    "CRC_result = calc_CRC(input(),input())        \n",
    "print('CRC値:{}'.format(CRC_result))    \n"
   ]
  },
  {
   "cell_type": "code",
   "execution_count": 145,
   "id": "3d02cae0",
   "metadata": {},
   "outputs": [
    {
     "data": {
      "text/plain": [
       "<map at 0x1d6cdcf7d00>"
      ]
     },
     "execution_count": 145,
     "metadata": {},
     "output_type": "execute_result"
    }
   ],
   "source": [
    "map(int,'123')"
   ]
  },
  {
   "cell_type": "code",
   "execution_count": null,
   "id": "2605eb76",
   "metadata": {},
   "outputs": [
    {
     "data": {
      "text/plain": [
       "['1', '2', '3']"
      ]
     },
     "execution_count": 149,
     "metadata": {},
     "output_type": "execute_result"
    }
   ],
   "source": []
  }
 ],
 "metadata": {
  "kernelspec": {
   "display_name": "Python 3",
   "language": "python",
   "name": "python3"
  },
  "language_info": {
   "codemirror_mode": {
    "name": "ipython",
    "version": 3
   },
   "file_extension": ".py",
   "mimetype": "text/x-python",
   "name": "python",
   "nbconvert_exporter": "python",
   "pygments_lexer": "ipython3",
   "version": "3.11.3"
  }
 },
 "nbformat": 4,
 "nbformat_minor": 5
}
